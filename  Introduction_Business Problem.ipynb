{
 "cells": [
  {
   "cell_type": "markdown",
   "metadata": {},
   "source": [
    "# Introduction"
   ]
  },
  {
   "cell_type": "markdown",
   "metadata": {},
   "source": [
    "#### My report is focus on a travel guide for people going to visit Toronto but not familiar with there. My work is to simplify various venues and only list the most important and attractive venues"
   ]
  },
  {
   "cell_type": "markdown",
   "metadata": {},
   "source": [
    "# Business Problem"
   ]
  },
  {
   "cell_type": "markdown",
   "metadata": {},
   "source": [
    "#### Nowadays, people because of the more and more busy work, have restricted time to research a place and make a travel plan before vacation. In addition, as a new visitor it is very difficult to find out best places to have fun or best restaurant to have dinner. Besides, in order to travel on schedule, the transportation and hotel are also very important. \n",
    "#### Previously, I retrieved all venues in East, West and Central Toronto as below:"
   ]
  },
  {
   "cell_type": "code",
   "execution_count": 6,
   "metadata": {},
   "outputs": [
    {
     "name": "stdout",
     "output_type": "stream",
     "text": [
      "(468, 7)\n"
     ]
    },
    {
     "data": {
      "text/html": [
       "<div>\n",
       "<style scoped>\n",
       "    .dataframe tbody tr th:only-of-type {\n",
       "        vertical-align: middle;\n",
       "    }\n",
       "\n",
       "    .dataframe tbody tr th {\n",
       "        vertical-align: top;\n",
       "    }\n",
       "\n",
       "    .dataframe thead th {\n",
       "        text-align: right;\n",
       "    }\n",
       "</style>\n",
       "<table border=\"1\" class=\"dataframe\">\n",
       "  <thead>\n",
       "    <tr style=\"text-align: right;\">\n",
       "      <th></th>\n",
       "      <th>Neighbourhood</th>\n",
       "      <th>Neighbourhood Latitude</th>\n",
       "      <th>Neighbourhood Longitude</th>\n",
       "      <th>Venue</th>\n",
       "      <th>Venue Latitude</th>\n",
       "      <th>Venue Longitude</th>\n",
       "      <th>Venue Category</th>\n",
       "    </tr>\n",
       "  </thead>\n",
       "  <tbody>\n",
       "    <tr>\n",
       "      <th>0</th>\n",
       "      <td>The Beaches</td>\n",
       "      <td>43.676357</td>\n",
       "      <td>-79.293031</td>\n",
       "      <td>Glen Manor Ravine</td>\n",
       "      <td>43.676821</td>\n",
       "      <td>-79.293942</td>\n",
       "      <td>Trail</td>\n",
       "    </tr>\n",
       "    <tr>\n",
       "      <th>1</th>\n",
       "      <td>The Beaches</td>\n",
       "      <td>43.676357</td>\n",
       "      <td>-79.293031</td>\n",
       "      <td>Glen Stewart Park</td>\n",
       "      <td>43.675278</td>\n",
       "      <td>-79.294647</td>\n",
       "      <td>Park</td>\n",
       "    </tr>\n",
       "    <tr>\n",
       "      <th>2</th>\n",
       "      <td>The Beaches</td>\n",
       "      <td>43.676357</td>\n",
       "      <td>-79.293031</td>\n",
       "      <td>Glen Stewart Ravine</td>\n",
       "      <td>43.676300</td>\n",
       "      <td>-79.294784</td>\n",
       "      <td>Other Great Outdoors</td>\n",
       "    </tr>\n",
       "    <tr>\n",
       "      <th>3</th>\n",
       "      <td>The Danforth West, Riverdale</td>\n",
       "      <td>43.679557</td>\n",
       "      <td>-79.352188</td>\n",
       "      <td>Pantheon</td>\n",
       "      <td>43.677621</td>\n",
       "      <td>-79.351434</td>\n",
       "      <td>Greek Restaurant</td>\n",
       "    </tr>\n",
       "    <tr>\n",
       "      <th>4</th>\n",
       "      <td>The Danforth West, Riverdale</td>\n",
       "      <td>43.679557</td>\n",
       "      <td>-79.352188</td>\n",
       "      <td>Dolce Gelato</td>\n",
       "      <td>43.677773</td>\n",
       "      <td>-79.351187</td>\n",
       "      <td>Ice Cream Shop</td>\n",
       "    </tr>\n",
       "    <tr>\n",
       "      <th>5</th>\n",
       "      <td>The Danforth West, Riverdale</td>\n",
       "      <td>43.679557</td>\n",
       "      <td>-79.352188</td>\n",
       "      <td>MenEssentials</td>\n",
       "      <td>43.677820</td>\n",
       "      <td>-79.351265</td>\n",
       "      <td>Cosmetics Shop</td>\n",
       "    </tr>\n",
       "    <tr>\n",
       "      <th>6</th>\n",
       "      <td>The Danforth West, Riverdale</td>\n",
       "      <td>43.679557</td>\n",
       "      <td>-79.352188</td>\n",
       "      <td>La Diperie</td>\n",
       "      <td>43.677530</td>\n",
       "      <td>-79.352295</td>\n",
       "      <td>Ice Cream Shop</td>\n",
       "    </tr>\n",
       "    <tr>\n",
       "      <th>7</th>\n",
       "      <td>The Danforth West, Riverdale</td>\n",
       "      <td>43.679557</td>\n",
       "      <td>-79.352188</td>\n",
       "      <td>Messini Authentic Gyros</td>\n",
       "      <td>43.677827</td>\n",
       "      <td>-79.350569</td>\n",
       "      <td>Greek Restaurant</td>\n",
       "    </tr>\n",
       "    <tr>\n",
       "      <th>8</th>\n",
       "      <td>The Danforth West, Riverdale</td>\n",
       "      <td>43.679557</td>\n",
       "      <td>-79.352188</td>\n",
       "      <td>Moksha Yoga Danforth</td>\n",
       "      <td>43.677622</td>\n",
       "      <td>-79.352116</td>\n",
       "      <td>Yoga Studio</td>\n",
       "    </tr>\n",
       "    <tr>\n",
       "      <th>9</th>\n",
       "      <td>The Danforth West, Riverdale</td>\n",
       "      <td>43.679557</td>\n",
       "      <td>-79.352188</td>\n",
       "      <td>Louis Cifer Brew Works</td>\n",
       "      <td>43.677663</td>\n",
       "      <td>-79.351313</td>\n",
       "      <td>Brewery</td>\n",
       "    </tr>\n",
       "  </tbody>\n",
       "</table>\n",
       "</div>"
      ],
      "text/plain": [
       "                  Neighbourhood  Neighbourhood Latitude  \\\n",
       "0                   The Beaches               43.676357   \n",
       "1                   The Beaches               43.676357   \n",
       "2                   The Beaches               43.676357   \n",
       "3  The Danforth West, Riverdale               43.679557   \n",
       "4  The Danforth West, Riverdale               43.679557   \n",
       "5  The Danforth West, Riverdale               43.679557   \n",
       "6  The Danforth West, Riverdale               43.679557   \n",
       "7  The Danforth West, Riverdale               43.679557   \n",
       "8  The Danforth West, Riverdale               43.679557   \n",
       "9  The Danforth West, Riverdale               43.679557   \n",
       "\n",
       "   Neighbourhood Longitude                    Venue  Venue Latitude  \\\n",
       "0               -79.293031        Glen Manor Ravine       43.676821   \n",
       "1               -79.293031        Glen Stewart Park       43.675278   \n",
       "2               -79.293031      Glen Stewart Ravine       43.676300   \n",
       "3               -79.352188                 Pantheon       43.677621   \n",
       "4               -79.352188             Dolce Gelato       43.677773   \n",
       "5               -79.352188            MenEssentials       43.677820   \n",
       "6               -79.352188               La Diperie       43.677530   \n",
       "7               -79.352188  Messini Authentic Gyros       43.677827   \n",
       "8               -79.352188     Moksha Yoga Danforth       43.677622   \n",
       "9               -79.352188   Louis Cifer Brew Works       43.677663   \n",
       "\n",
       "   Venue Longitude        Venue Category  \n",
       "0       -79.293942                 Trail  \n",
       "1       -79.294647                  Park  \n",
       "2       -79.294784  Other Great Outdoors  \n",
       "3       -79.351434      Greek Restaurant  \n",
       "4       -79.351187        Ice Cream Shop  \n",
       "5       -79.351265        Cosmetics Shop  \n",
       "6       -79.352295        Ice Cream Shop  \n",
       "7       -79.350569      Greek Restaurant  \n",
       "8       -79.352116           Yoga Studio  \n",
       "9       -79.351313               Brewery  "
      ]
     },
     "execution_count": 6,
     "metadata": {},
     "output_type": "execute_result"
    }
   ],
   "source": [
    "import pandas as pd\n",
    "Toronto_Dict_csv = 'Toronto Venues.csv'   \n",
    "toronto_venues = pd.read_csv(Toronto_Dict_csv)    # read Toronto Postcode and geospatial data\n",
    "print(toronto_venues.shape)\n",
    "toronto_venues.head(10)  # check postcode data"
   ]
  },
  {
   "cell_type": "code",
   "execution_count": 4,
   "metadata": {},
   "outputs": [
    {
     "name": "stdout",
     "output_type": "stream",
     "text": [
      "There are 150 uniques categories.\n"
     ]
    }
   ],
   "source": [
    "print('There are {} uniques categories.'.format(len(toronto_venues['Venue Category'].unique())))"
   ]
  },
  {
   "cell_type": "markdown",
   "metadata": {},
   "source": [
    "#### We can see there are 150 categories contain Trail, Park, Other Great Outdoors and Ice Cream Shop, et al. So many different venue categories confuse people and make it hard to make a travel plan. Thus, simplifying the venue categories is necessary for new visitors.\n",
    "#### The first step is ignoring the unnecessary venue, and then classify the rest categories into 6 groups: Entertainment, Food, Hotel, Scenic spot, Shop, Transportation. More details are described in Data Section.\n"
   ]
  }
 ],
 "metadata": {
  "kernelspec": {
   "display_name": "Python 3",
   "language": "python",
   "name": "python3"
  },
  "language_info": {
   "codemirror_mode": {
    "name": "ipython",
    "version": 3
   },
   "file_extension": ".py",
   "mimetype": "text/x-python",
   "name": "python",
   "nbconvert_exporter": "python",
   "pygments_lexer": "ipython3",
   "version": "3.5.6"
  }
 },
 "nbformat": 4,
 "nbformat_minor": 2
}
